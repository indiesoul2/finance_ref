{
 "cells": [
  {
   "cell_type": "markdown",
   "metadata": {},
   "source": [
    "# Appendix 수업 후 추가내용\n",
    "수업 추가내용"
   ]
  },
  {
   "cell_type": "markdown",
   "metadata": {},
   "source": [
    "## Question 1 \n",
    "APCF 모델을 출력시 그림이 다르게 나오는 이유는 뭔가요?"
   ]
  },
  {
   "cell_type": "markdown",
   "metadata": {},
   "source": [
    "## Answer \n",
    "1. 현재 최신버젼인 0.9.0 에서는 종속성 문제로 오류가 발생.\n",
    "1. statemodels 모듈을 0.8.0 로 바꾸면 잘 작동된다\n",
    "    1. pip uninstall statsmodels  (제거는 터미널만 가능하고 주피터에선 실행 잘 안된다)\n",
    "    1. pip install statsmodels==0.8.0"
   ]
  },
  {
   "cell_type": "markdown",
   "metadata": {},
   "source": [
    "## Question 2\n",
    "복습은 어떻게 하면 되나요?"
   ]
  },
  {
   "cell_type": "markdown",
   "metadata": {},
   "source": [
    "## Answer \n",
    "1. 내용을 반복적으로 여러번 보면서 익숙해지시는게 가장 빠르다고 생각합니다\n",
    "1. 일별 출근/ 퇴근시 마다 1개씩 보면서 전체의 틀에 익숙해지시는 방법이 가장 빠르다고 생각합니다."
   ]
  },
  {
   "cell_type": "markdown",
   "metadata": {},
   "source": [
    "## Question 3\n",
    "추가적인 내용을 알고싶으면 어디를 보면 좋을까요?"
   ]
  },
  {
   "cell_type": "markdown",
   "metadata": {},
   "source": [
    "## Answer \n",
    "1. https://datascienceschool.net/notebook/  | 한글 데이터 사이언스 주피터 노트북 모음 (내용이 방대해서 사전별로 개별 찾아보는 기분으로 보시면 됩니다)\n",
    "1. https://www.quantopian.com/lectures | 영문 금융데이터 주피터 목록으로 순차적으로 자세하게 되어있습니다 (회원가입필요)"
   ]
  },
  {
   "cell_type": "markdown",
   "metadata": {},
   "source": [
    "### 2주동안 수고하셨습니다 ^^;;;\n",
    "### 혹시 추가적인 질문 있으시면 카톡으로 문의 주시면 됩니다"
   ]
  },
  {
   "cell_type": "code",
   "execution_count": null,
   "metadata": {},
   "outputs": [],
   "source": []
  }
 ],
 "metadata": {
  "kernelspec": {
   "display_name": "Python 3",
   "language": "python",
   "name": "python3"
  },
  "language_info": {
   "codemirror_mode": {
    "name": "ipython",
    "version": 3
   },
   "file_extension": ".py",
   "mimetype": "text/x-python",
   "name": "python",
   "nbconvert_exporter": "python",
   "pygments_lexer": "ipython3",
   "version": "3.7.0"
  }
 },
 "nbformat": 4,
 "nbformat_minor": 2
}
