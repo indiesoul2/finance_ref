{
 "cells": [
  {
   "cell_type": "markdown",
   "metadata": {},
   "source": [
    "<br>\n",
    "# ** 5 Python for Finance**\n",
    "파이썬을 활용한 금융분석"
   ]
  },
  {
   "cell_type": "markdown",
   "metadata": {},
   "source": [
    "<br><br>\n",
    "## <strong>1 금융 시계열 데이터 결측치 처리 / 보간법\n",
    "https://github.com/pydata/pandas-datareader\n",
    "1. pandas를 활용한 데이터 정렬 및 보간법\n",
    "1. 금융데이터 크롤링 모듈 설치방법 (2018.06 기준)\n",
    "1. ! pip install git+https://github.com/pydata/pandas-datareader.git --upgrade"
   ]
  },
  {
   "cell_type": "code",
   "execution_count": 1,
   "metadata": {},
   "outputs": [],
   "source": [
    "# from pandas_datareader import get_data_yahoo\n",
    "# start_date = '2013-01-01'\n",
    "# codes = ['KO', 'MS', '005930.KS', '000660.KS']\n",
    "# result = {}\n",
    "# for code in codes:\n",
    "#     result[code] = get_data_yahoo(code, start_date).Close\n",
    "\n",
    "# import pandas as pd\n",
    "# prices = pd.DataFrame(result)\n",
    "\n",
    "# prices = prices.fillna(method='ffill')\n",
    "# prices = prices.dropna()                \n",
    "# prices.to_csv('./data/stocks.csv', encoding=\"ms949\")\n",
    "# prices.tail(3)"
   ]
  },
  {
   "cell_type": "code",
   "execution_count": 2,
   "metadata": {},
   "outputs": [
    {
     "name": "stdout",
     "output_type": "stream",
     "text": [
      "<class 'pandas.core.frame.DataFrame'>\n",
      "DatetimeIndex: 1410 entries, 2013-01-02 to 2018-06-11\n",
      "Data columns (total 4 columns):\n",
      "KO           1410 non-null float64\n",
      "MS           1410 non-null float64\n",
      "005930.KS    1410 non-null float64\n",
      "000660.KS    1410 non-null float64\n",
      "dtypes: float64(4)\n",
      "memory usage: 55.1 KB\n"
     ]
    }
   ],
   "source": [
    "# 저장된 CSV 파일을 사용한다\n",
    "\n",
    "import pandas as pd\n",
    "prices = pd.read_csv('./data/stocks.csv')\n",
    "prices = prices.set_index('Date')\n",
    "prices.head(3)\n",
    "prices.index = pd.DatetimeIndex(prices.index)\n",
    "prices.info()"
   ]
  },
  {
   "cell_type": "markdown",
   "metadata": {},
   "source": [
    "<br><br>\n",
    "## **2 금융 시계열 데이터 전처리**\n",
    "데이터 분석을 위한 전처리 방법"
   ]
  },
  {
   "cell_type": "markdown",
   "metadata": {},
   "source": [
    "<br>\n",
    "### **01 가격 차이가 큰 시계열 데이터 비교하기**\n",
    "데이터 정규화 / 비정규화"
   ]
  },
  {
   "cell_type": "code",
   "execution_count": 3,
   "metadata": {},
   "outputs": [
    {
     "data": {
      "text/plain": [
       "<matplotlib.axes._subplots.AxesSubplot at 0x7fb42f67cfd0>"
      ]
     },
     "execution_count": 3,
     "metadata": {},
     "output_type": "execute_result"
    },
    {
     "data": {
      "image/png": "[encoded data removed]",
      "text/plain": [
       "<matplotlib.figure.Figure at 0x7fb42f912a58>"
      ]
     },
     "metadata": {},
     "output_type": "display_data"
    }
   ],
   "source": [
    "%matplotlib inline\n",
    "prices.plot()"
   ]
  },
  {
   "cell_type": "code",
   "execution_count": 4,
   "metadata": {
    "scrolled": true
   },
   "outputs": [
    {
     "data": {
      "text/plain": [
       "Date\n",
       "2018-06-05    51300.0\n",
       "2018-06-06    51300.0\n",
       "2018-06-07    50600.0\n",
       "2018-06-08    49650.0\n",
       "2018-06-11    49900.0\n",
       "Name: 005930.KS, dtype: float64"
      ]
     },
     "execution_count": 4,
     "metadata": {},
     "output_type": "execute_result"
    }
   ],
   "source": [
    "price = prices['005930.KS']\n",
    "price[-5:]"
   ]
  },
  {
   "cell_type": "code",
   "execution_count": 5,
   "metadata": {},
   "outputs": [
    {
     "data": {
      "text/plain": [
       "DatetimeIndex(['2013-01-02', '2013-01-03', '2013-01-04', '2013-01-07',\n",
       "               '2013-01-08', '2013-01-09', '2013-01-10', '2013-01-11',\n",
       "               '2013-01-14', '2013-01-15',\n",
       "               ...\n",
       "               '2018-05-29', '2018-05-30', '2018-05-31', '2018-06-01',\n",
       "               '2018-06-04', '2018-06-05', '2018-06-06', '2018-06-07',\n",
       "               '2018-06-08', '2018-06-11'],\n",
       "              dtype='datetime64[ns]', name='Date', length=1410, freq=None)"
      ]
     },
     "execution_count": 5,
     "metadata": {},
     "output_type": "execute_result"
    }
   ],
   "source": [
    "price.index"
   ]
  },
  {
   "cell_type": "code",
   "execution_count": 6,
   "metadata": {},
   "outputs": [
    {
     "data": {
      "text/plain": [
       "DatetimeIndex(['2013-01-02', '2013-01-03', '2013-01-04', '2013-01-07',\n",
       "               '2013-01-08', '2013-01-09', '2013-01-10', '2013-01-11',\n",
       "               '2013-01-14', '2013-01-15',\n",
       "               ...\n",
       "               '2018-05-29', '2018-05-30', '2018-05-31', '2018-06-01',\n",
       "               '2018-06-04', '2018-06-05', '2018-06-06', '2018-06-07',\n",
       "               '2018-06-08', '2018-06-11'],\n",
       "              dtype='datetime64[ns]', name='Date', length=1410, freq=None)"
      ]
     },
     "execution_count": 6,
     "metadata": {},
     "output_type": "execute_result"
    }
   ],
   "source": [
    "price.index = pd.DatetimeIndex(price.index)\n",
    "price.index"
   ]
  },
  {
   "cell_type": "code",
   "execution_count": 7,
   "metadata": {},
   "outputs": [
    {
     "data": {
      "text/plain": [
       "0.10781250000000009"
      ]
     },
     "execution_count": 7,
     "metadata": {},
     "output_type": "execute_result"
    }
   ],
   "source": [
    "price[\"2013-10-03\"] / price[\"2013-08-01\"] -1"
   ]
  },
  {
   "cell_type": "code",
   "execution_count": 8,
   "metadata": {},
   "outputs": [
    {
     "data": {
      "text/plain": [
       "<matplotlib.axes._subplots.AxesSubplot at 0x7fb42d028320>"
      ]
     },
     "execution_count": 8,
     "metadata": {},
     "output_type": "execute_result"
    },
    {
     "data": {
      "image/png": "[encoded data removed]",
      "text/plain": [
       "<matplotlib.figure.Figure at 0x7fb465717b38>"
      ]
     },
     "metadata": {},
     "output_type": "display_data"
    }
   ],
   "source": [
    "returns      = price.pct_change()\n",
    "ret_price    = (1 + returns).cumprod()\n",
    "ret_price[0] = 1\n",
    "\n",
    "%matplotlib inline\n",
    "ret_price.plot(figsize=(12,3))"
   ]
  },
  {
   "cell_type": "code",
   "execution_count": 9,
   "metadata": {},
   "outputs": [
    {
     "data": {
      "image/png": "[encoded data removed]",
      "text/plain": [
       "<matplotlib.figure.Figure at 0x7fb42c7dacc0>"
      ]
     },
     "metadata": {},
     "output_type": "display_data"
    }
   ],
   "source": [
    "for col in prices.columns:\n",
    "    pct_returns = prices[col].pct_change()\n",
    "    pct_returns = (1 + pct_returns).cumprod()\n",
    "    pct_returns[0] = 1\n",
    "    pct_returns.plot(legend=True)"
   ]
  },
  {
   "cell_type": "markdown",
   "metadata": {},
   "source": [
    "<br>\n",
    "### **02 누적 수익률 계산 **\n",
    ".pct_change().cumprod()"
   ]
  },
  {
   "cell_type": "code",
   "execution_count": 10,
   "metadata": {
    "scrolled": true
   },
   "outputs": [
    {
     "data": {
      "text/plain": [
       "Date\n",
       "2016-01-29   -0.087302\n",
       "2016-02-29    0.024348\n",
       "2016-03-31    0.113752\n",
       "2016-04-29   -0.051067\n",
       "2016-05-31    0.037751\n",
       "2016-06-30    0.102941\n",
       "2016-07-29    0.080000\n",
       "2016-08-31    0.052632\n",
       "2016-09-30   -0.013580\n",
       "2016-10-31    0.025657\n",
       "2016-11-30    0.065284\n",
       "2016-12-30    0.032073\n",
       "Freq: BM, Name: 005930.KS, dtype: float64"
      ]
     },
     "execution_count": 10,
     "metadata": {},
     "output_type": "execute_result"
    }
   ],
   "source": [
    "month_returns = price.resample('BM').last().pct_change()\n",
    "month_returns['2016']"
   ]
  },
  {
   "cell_type": "code",
   "execution_count": 11,
   "metadata": {},
   "outputs": [
    {
     "data": {
      "text/plain": [
       "Date\n",
       "2016-01-29    0.794199\n",
       "2016-02-29    0.813536\n",
       "2016-03-31    0.906077\n",
       "2016-04-29    0.859807\n",
       "2016-05-31    0.892265\n",
       "2016-06-30    0.984116\n",
       "2016-07-29    1.062845\n",
       "2016-08-31    1.118785\n",
       "2016-09-30    1.103591\n",
       "2016-10-31    1.131906\n",
       "2016-11-30    1.205801\n",
       "2016-12-30    1.244475\n",
       "Freq: BM, Name: 005930.KS, dtype: float64"
      ]
     },
     "execution_count": 11,
     "metadata": {},
     "output_type": "execute_result"
    }
   ],
   "source": [
    "m_ret = (1 + month_returns).cumprod()\n",
    "m_ret['2016']"
   ]
  },
  {
   "cell_type": "code",
   "execution_count": 12,
   "metadata": {},
   "outputs": [
    {
     "data": {
      "image/png": "[encoded data removed]",
      "text/plain": [
       "<matplotlib.figure.Figure at 0x7fb42af3c358>"
      ]
     },
     "metadata": {},
     "output_type": "display_data"
    }
   ],
   "source": [
    "import matplotlib.pyplot as plt\n",
    "m_ret.plot(figsize=(12,3))\n",
    "plt.axhline(y = 1, linestyle = '--', color = 'k')\n",
    "plt.show()"
   ]
  },
  {
   "cell_type": "markdown",
   "metadata": {},
   "source": [
    "<br>\n",
    "### **03 중간 배당데이터 추가하기**\n",
    "재귀적 연산"
   ]
  },
  {
   "cell_type": "code",
   "execution_count": 13,
   "metadata": {},
   "outputs": [],
   "source": [
    "month_returns['2016-03-31'] += 0.003"
   ]
  },
  {
   "cell_type": "code",
   "execution_count": 14,
   "metadata": {},
   "outputs": [
    {
     "name": "stdout",
     "output_type": "stream",
     "text": [
      "10000\n",
      "10001\n",
      "10002\n",
      "10003\n"
     ]
    }
   ],
   "source": [
    "for i in range(4):\n",
    "    i += 10000\n",
    "    print(i)"
   ]
  },
  {
   "cell_type": "markdown",
   "metadata": {},
   "source": [
    "<br><br>\n",
    "## **3 금융데이터  분석**\n",
    "pandas를 활용한 금융데이터 분석"
   ]
  },
  {
   "cell_type": "markdown",
   "metadata": {},
   "source": [
    "<br>\n",
    "### **01 Introduction**"
   ]
  },
  {
   "cell_type": "code",
   "execution_count": 15,
   "metadata": {},
   "outputs": [
    {
     "data": {
      "text/html": [
       "<div>\n",
       "<style scoped>\n",
       "    .dataframe tbody tr th:only-of-type {\n",
       "        vertical-align: middle;\n",
       "    }\n",
       "\n",
       "    .dataframe tbody tr th {\n",
       "        vertical-align: top;\n",
       "    }\n",
       "\n",
       "    .dataframe thead th {\n",
       "        text-align: right;\n",
       "    }\n",
       "</style>\n",
       "<table border=\"1\" class=\"dataframe\">\n",
       "  <thead>\n",
       "    <tr style=\"text-align: right;\">\n",
       "      <th></th>\n",
       "      <th>KO</th>\n",
       "      <th>MS</th>\n",
       "      <th>005930.KS</th>\n",
       "      <th>000660.KS</th>\n",
       "    </tr>\n",
       "    <tr>\n",
       "      <th>Date</th>\n",
       "      <th></th>\n",
       "      <th></th>\n",
       "      <th></th>\n",
       "      <th></th>\n",
       "    </tr>\n",
       "  </thead>\n",
       "  <tbody>\n",
       "    <tr>\n",
       "      <th>2013-01-02</th>\n",
       "      <td>37.599998</td>\n",
       "      <td>19.620001</td>\n",
       "      <td>31520.0</td>\n",
       "      <td>26600.0</td>\n",
       "    </tr>\n",
       "    <tr>\n",
       "      <th>2013-01-03</th>\n",
       "      <td>37.599998</td>\n",
       "      <td>19.580000</td>\n",
       "      <td>30860.0</td>\n",
       "      <td>26650.0</td>\n",
       "    </tr>\n",
       "    <tr>\n",
       "      <th>2013-01-04</th>\n",
       "      <td>37.660000</td>\n",
       "      <td>20.190001</td>\n",
       "      <td>30500.0</td>\n",
       "      <td>26350.0</td>\n",
       "    </tr>\n",
       "  </tbody>\n",
       "</table>\n",
       "</div>"
      ],
      "text/plain": [
       "                   KO         MS  005930.KS  000660.KS\n",
       "Date                                                  \n",
       "2013-01-02  37.599998  19.620001    31520.0    26600.0\n",
       "2013-01-03  37.599998  19.580000    30860.0    26650.0\n",
       "2013-01-04  37.660000  20.190001    30500.0    26350.0"
      ]
     },
     "execution_count": 15,
     "metadata": {},
     "output_type": "execute_result"
    }
   ],
   "source": [
    "prices.head(3)"
   ]
  },
  {
   "cell_type": "code",
   "execution_count": 16,
   "metadata": {},
   "outputs": [
    {
     "data": {
      "text/html": [
       "<div>\n",
       "<style scoped>\n",
       "    .dataframe tbody tr th:only-of-type {\n",
       "        vertical-align: middle;\n",
       "    }\n",
       "\n",
       "    .dataframe tbody tr th {\n",
       "        vertical-align: top;\n",
       "    }\n",
       "\n",
       "    .dataframe thead th {\n",
       "        text-align: right;\n",
       "    }\n",
       "</style>\n",
       "<table border=\"1\" class=\"dataframe\">\n",
       "  <thead>\n",
       "    <tr style=\"text-align: right;\">\n",
       "      <th></th>\n",
       "      <th>KO</th>\n",
       "      <th>MS</th>\n",
       "      <th>005930.KS</th>\n",
       "      <th>000660.KS</th>\n",
       "    </tr>\n",
       "  </thead>\n",
       "  <tbody>\n",
       "    <tr>\n",
       "      <th>count</th>\n",
       "      <td>1410.000000</td>\n",
       "      <td>1410.000000</td>\n",
       "      <td>1410.000000</td>\n",
       "      <td>1410.000000</td>\n",
       "    </tr>\n",
       "    <tr>\n",
       "      <th>mean</th>\n",
       "      <td>42.100099</td>\n",
       "      <td>35.681879</td>\n",
       "      <td>32640.000000</td>\n",
       "      <td>45578.581560</td>\n",
       "    </tr>\n",
       "    <tr>\n",
       "      <th>std</th>\n",
       "      <td>2.407227</td>\n",
       "      <td>9.298308</td>\n",
       "      <td>9609.622299</td>\n",
       "      <td>17468.595733</td>\n",
       "    </tr>\n",
       "    <tr>\n",
       "      <th>min</th>\n",
       "      <td>36.840000</td>\n",
       "      <td>19.580000</td>\n",
       "      <td>21340.000000</td>\n",
       "      <td>23700.000000</td>\n",
       "    </tr>\n",
       "    <tr>\n",
       "      <th>25%</th>\n",
       "      <td>40.509998</td>\n",
       "      <td>28.882501</td>\n",
       "      <td>25840.000000</td>\n",
       "      <td>31800.000000</td>\n",
       "    </tr>\n",
       "    <tr>\n",
       "      <th>50%</th>\n",
       "      <td>41.990002</td>\n",
       "      <td>33.555000</td>\n",
       "      <td>28560.000000</td>\n",
       "      <td>41850.000000</td>\n",
       "    </tr>\n",
       "    <tr>\n",
       "      <th>75%</th>\n",
       "      <td>43.787500</td>\n",
       "      <td>42.627501</td>\n",
       "      <td>38205.000000</td>\n",
       "      <td>49787.500000</td>\n",
       "    </tr>\n",
       "    <tr>\n",
       "      <th>max</th>\n",
       "      <td>48.529999</td>\n",
       "      <td>58.910000</td>\n",
       "      <td>57220.000000</td>\n",
       "      <td>95300.000000</td>\n",
       "    </tr>\n",
       "  </tbody>\n",
       "</table>\n",
       "</div>"
      ],
      "text/plain": [
       "                KO           MS     005930.KS     000660.KS\n",
       "count  1410.000000  1410.000000   1410.000000   1410.000000\n",
       "mean     42.100099    35.681879  32640.000000  45578.581560\n",
       "std       2.407227     9.298308   9609.622299  17468.595733\n",
       "min      36.840000    19.580000  21340.000000  23700.000000\n",
       "25%      40.509998    28.882501  25840.000000  31800.000000\n",
       "50%      41.990002    33.555000  28560.000000  41850.000000\n",
       "75%      43.787500    42.627501  38205.000000  49787.500000\n",
       "max      48.529999    58.910000  57220.000000  95300.000000"
      ]
     },
     "execution_count": 16,
     "metadata": {},
     "output_type": "execute_result"
    }
   ],
   "source": [
    "prices.describe()"
   ]
  },
  {
   "cell_type": "code",
   "execution_count": 17,
   "metadata": {},
   "outputs": [
    {
     "data": {
      "text/html": [
       "<div>\n",
       "<style scoped>\n",
       "    .dataframe tbody tr th:only-of-type {\n",
       "        vertical-align: middle;\n",
       "    }\n",
       "\n",
       "    .dataframe tbody tr th {\n",
       "        vertical-align: top;\n",
       "    }\n",
       "\n",
       "    .dataframe thead th {\n",
       "        text-align: right;\n",
       "    }\n",
       "</style>\n",
       "<table border=\"1\" class=\"dataframe\">\n",
       "  <thead>\n",
       "    <tr style=\"text-align: right;\">\n",
       "      <th></th>\n",
       "      <th>KO</th>\n",
       "      <th>MS</th>\n",
       "      <th>005930.KS</th>\n",
       "      <th>000660.KS</th>\n",
       "    </tr>\n",
       "  </thead>\n",
       "  <tbody>\n",
       "    <tr>\n",
       "      <th>mean</th>\n",
       "      <td>42.100099</td>\n",
       "      <td>35.681879</td>\n",
       "      <td>32640.000000</td>\n",
       "      <td>45578.581560</td>\n",
       "    </tr>\n",
       "    <tr>\n",
       "      <th>std</th>\n",
       "      <td>2.407227</td>\n",
       "      <td>9.298308</td>\n",
       "      <td>9609.622299</td>\n",
       "      <td>17468.595733</td>\n",
       "    </tr>\n",
       "  </tbody>\n",
       "</table>\n",
       "</div>"
      ],
      "text/plain": [
       "             KO         MS     005930.KS     000660.KS\n",
       "mean  42.100099  35.681879  32640.000000  45578.581560\n",
       "std    2.407227   9.298308   9609.622299  17468.595733"
      ]
     },
     "execution_count": 17,
     "metadata": {},
     "output_type": "execute_result"
    }
   ],
   "source": [
    "prices.describe().loc[ ['mean', 'std'] ,:]"
   ]
  },
  {
   "cell_type": "code",
   "execution_count": 18,
   "metadata": {},
   "outputs": [
    {
     "data": {
      "text/html": [
       "<div>\n",
       "<style scoped>\n",
       "    .dataframe tbody tr th:only-of-type {\n",
       "        vertical-align: middle;\n",
       "    }\n",
       "\n",
       "    .dataframe tbody tr th {\n",
       "        vertical-align: top;\n",
       "    }\n",
       "\n",
       "    .dataframe thead th {\n",
       "        text-align: right;\n",
       "    }\n",
       "</style>\n",
       "<table border=\"1\" class=\"dataframe\">\n",
       "  <thead>\n",
       "    <tr style=\"text-align: right;\">\n",
       "      <th></th>\n",
       "      <th>KO</th>\n",
       "      <th>MS</th>\n",
       "      <th>005930.KS</th>\n",
       "      <th>000660.KS</th>\n",
       "    </tr>\n",
       "  </thead>\n",
       "  <tbody>\n",
       "    <tr>\n",
       "      <th>mean</th>\n",
       "      <td>42.100099</td>\n",
       "      <td>35.681879</td>\n",
       "      <td>32640.000000</td>\n",
       "      <td>45578.581560</td>\n",
       "    </tr>\n",
       "    <tr>\n",
       "      <th>std</th>\n",
       "      <td>2.407227</td>\n",
       "      <td>9.298308</td>\n",
       "      <td>9609.622299</td>\n",
       "      <td>17468.595733</td>\n",
       "    </tr>\n",
       "  </tbody>\n",
       "</table>\n",
       "</div>"
      ],
      "text/plain": [
       "             KO         MS     005930.KS     000660.KS\n",
       "mean  42.100099  35.681879  32640.000000  45578.581560\n",
       "std    2.407227   9.298308   9609.622299  17468.595733"
      ]
     },
     "execution_count": 18,
     "metadata": {},
     "output_type": "execute_result"
    }
   ],
   "source": [
    "prices.agg(['mean', 'std'])"
   ]
  },
  {
   "cell_type": "markdown",
   "metadata": {},
   "source": [
    "<br>\n",
    "### **02 주가간의 상관계수 분석**"
   ]
  },
  {
   "cell_type": "code",
   "execution_count": 19,
   "metadata": {},
   "outputs": [
    {
     "data": {
      "text/html": [
       "<div>\n",
       "<style scoped>\n",
       "    .dataframe tbody tr th:only-of-type {\n",
       "        vertical-align: middle;\n",
       "    }\n",
       "\n",
       "    .dataframe tbody tr th {\n",
       "        vertical-align: top;\n",
       "    }\n",
       "\n",
       "    .dataframe thead th {\n",
       "        text-align: right;\n",
       "    }\n",
       "</style>\n",
       "<table border=\"1\" class=\"dataframe\">\n",
       "  <thead>\n",
       "    <tr style=\"text-align: right;\">\n",
       "      <th></th>\n",
       "      <th>KO</th>\n",
       "      <th>MS</th>\n",
       "      <th>005930.KS</th>\n",
       "      <th>000660.KS</th>\n",
       "    </tr>\n",
       "  </thead>\n",
       "  <tbody>\n",
       "    <tr>\n",
       "      <th>KO</th>\n",
       "      <td>1.000000</td>\n",
       "      <td>0.277816</td>\n",
       "      <td>0.041527</td>\n",
       "      <td>0.037768</td>\n",
       "    </tr>\n",
       "    <tr>\n",
       "      <th>MS</th>\n",
       "      <td>0.277816</td>\n",
       "      <td>1.000000</td>\n",
       "      <td>0.074325</td>\n",
       "      <td>0.099111</td>\n",
       "    </tr>\n",
       "    <tr>\n",
       "      <th>005930.KS</th>\n",
       "      <td>0.041527</td>\n",
       "      <td>0.074325</td>\n",
       "      <td>1.000000</td>\n",
       "      <td>0.343296</td>\n",
       "    </tr>\n",
       "    <tr>\n",
       "      <th>000660.KS</th>\n",
       "      <td>0.037768</td>\n",
       "      <td>0.099111</td>\n",
       "      <td>0.343296</td>\n",
       "      <td>1.000000</td>\n",
       "    </tr>\n",
       "  </tbody>\n",
       "</table>\n",
       "</div>"
      ],
      "text/plain": [
       "                 KO        MS  005930.KS  000660.KS\n",
       "KO         1.000000  0.277816   0.041527   0.037768\n",
       "MS         0.277816  1.000000   0.074325   0.099111\n",
       "005930.KS  0.041527  0.074325   1.000000   0.343296\n",
       "000660.KS  0.037768  0.099111   0.343296   1.000000"
      ]
     },
     "execution_count": 19,
     "metadata": {},
     "output_type": "execute_result"
    }
   ],
   "source": [
    "prices_corr = prices.pct_change().dropna().corr()\n",
    "prices_corr"
   ]
  },
  {
   "cell_type": "code",
   "execution_count": 20,
   "metadata": {},
   "outputs": [
    {
     "data": {
      "text/plain": [
       "<matplotlib.axes._subplots.AxesSubplot at 0x7fb421ea12b0>"
      ]
     },
     "execution_count": 20,
     "metadata": {},
     "output_type": "execute_result"
    },
    {
     "data": {
      "image/png": "[encoded data removed]",
      "text/plain": [
       "<matplotlib.figure.Figure at 0x7fb422585c88>"
      ]
     },
     "metadata": {},
     "output_type": "display_data"
    }
   ],
   "source": [
    "%matplotlib inline\n",
    "import seaborn as sns\n",
    "sns.heatmap(prices_corr)"
   ]
  }
 ],
 "metadata": {
  "kernelspec": {
   "display_name": "Python 3",
   "language": "python",
   "name": "python3"
  },
  "language_info": {
   "codemirror_mode": {
    "name": "ipython",
    "version": 3
   },
   "file_extension": ".py",
   "mimetype": "text/x-python",
   "name": "python",
   "nbconvert_exporter": "python",
   "pygments_lexer": "ipython3",
   "version": "3.7.1"
  }
 },
 "nbformat": 4,
 "nbformat_minor": 2
}
