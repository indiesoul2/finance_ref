{
 "cells": [
  {
   "cell_type": "markdown",
   "metadata": {},
   "source": [
    "# **_1. Python Datum & Data_**\n",
    "**금융데이터를 활용한 파이썬 기초 객체**\n"
   ]
  },
  {
   "cell_type": "markdown",
   "metadata": {},
   "source": [
    "<br><br>\n",
    "<처음 접근하시는 분들의 공통적인 의견>\n",
    "## Python 은 쉽다고 하더라\n",
    "## 하지만 Python 은 어렵더라\n",
    "## 해보면 Python 은 강력하더라다\n",
    "<br><br>"
   ]
  },
  {
   "cell_type": "markdown",
   "metadata": {},
   "source": [
    "<br>\n",
    "<br>\n",
    "<번역기>\n",
    "## Python 은 <strike>다른 언어에 비해서</strike> 쉽다\n",
    "## 하지만 <strike>막상 공부해보면</strike> Python 은 어렵다\n",
    "## <strike>다른 언어의 대부분의 개념이 포함되어서 어렵다 그래서</strike> 해보면 Python 은 강력하다\n",
    "최소한의 문법과 예제들을 이해하고 암기해야 하지만 **Learning Curve** 가 다른 언어학습경험에 비해서 많다고 할 수는 없다\n",
    "\n",
    "<img src=\"https://i.pinimg.com/474x/ae/f6/4b/aef64b334fe2b487ee516dbf48d5b88c--curves.jpg\" align='left'/>"
   ]
  },
  {
   "cell_type": "markdown",
   "metadata": {},
   "source": [
    "<br>\n",
    "## **1 Why Coding**\n",
    "Introduction\n",
    "\n",
    "### **01 왜 파이썬을 배우러 오셨습니까?**\n",
    "미래의 지구는 인간 만으로는 살기 어렵다는데\n",
    "\n",
    "정 안되면 자연으로 돌아가고 싶은 생각 중...<br>\n",
    "\n",
    "<img src=\"http://cdn.pingwest.com/wp-content/uploads/2016/03/DSCF3721.0.jpg\" align='left' width=600>"
   ]
  },
  {
   "cell_type": "markdown",
   "metadata": {},
   "source": [
    "<br>\n",
    "### **02 가장 큰 장점은 Simulation & Testing 이다**\n",
    "\n",
    "<img src=\"https://raw.githubusercontent.com/VHRanger/matchingmarkets/master/matching%20graph%20example.gif\" align='left' width=600>"
   ]
  },
  {
   "cell_type": "markdown",
   "metadata": {},
   "source": [
    "<br>\n",
    "### **03 하지만 이 길은 멀고 험난합니다**\n",
    "첫 술에 배부르랴..\n",
    "\n",
    "익숙하지 않을 뿐, 익숙해 지는 것 부터 시작하고 완성하면 그것이 처음이자 끝이다\n",
    "\n",
    "처음부터 맛에 익숙하진 않지만,  살아가면서 다양한 맛을 알고 이해하게 된다..\n",
    "\n",
    "자세히 설명은 못해도 머리와 몸으로 이해하듯...\n",
    "\n",
    "언의의 내용과 개념을 있는 그대로 받아들이고 이해하는 과정이 이번 수업의 내용입니다\n",
    "\n",
    "<img src=\"http://cfile210.uf.daum.net/image/217073395486BED70AAF8D\" align='left' width='600'>"
   ]
  },
  {
   "cell_type": "markdown",
   "metadata": {},
   "source": [
    "<br>\n",
    "### **03 Why Python**\n",
    "Introduction\n",
    "\n",
    "#### **3-1 Excel VBA**\n",
    "1. 역사가 길고 VBA Source들이 많다\n",
    "1. cristall ball 등 오랜 검증이 확실한 도구들이 많다\n",
    "1. 대용량 작업을 위해선 많은 성능을 요한다\n",
    "\n",
    "<img src=\"http://developerfarm.cdn1.cafe24.com/cover/l/9791158390891.jpg\" align='left' width='400'>"
   ]
  },
  {
   "cell_type": "markdown",
   "metadata": {},
   "source": [
    "#### **3-2 R, R-studio**\n",
    "1. 금융 Quant에 관련된 Source들이 다양하다\n",
    "1. 계산에 가장 최적화된 언어로 설치 및 활용\n",
    "1. 무료다 (아직은....) <strike>Micro Soft에게 결정권이 달려있다..</strike>\n",
    "\n",
    "<img src=\"http://preview.yes24.com/PreviewResize.aspx?no=53564397&fn=r9w6g2m7ehc8ljkt01.jpg&size=700|904\" align='left' width='400'>"
   ]
  },
  {
   "cell_type": "markdown",
   "metadata": {},
   "source": [
    "#### **3-3 Python**\n",
    "1. R에 비해서 Open된 Source 들이 부족하다\n",
    "1. 다른 언어에 비해서 상대적으로 쉽다 <strike>그러면서 쉽지않다</strike>\n",
    "1. 규칙에 근거한 coding (<strike>때문에 짧아서 쉬워 보일 뿐, 쉽지 않다)</strike>\n",
    "1. 한편 쉽지 않다는 건 그만큼 강력한 활용이 가능하는 뜻이기도 하다\n",
    "    \n",
    "<img src=\"http://preview.yes24.com/PreviewResize.aspx?no=56882179&fn=31jg1uxtfc0gao9e01.jpg&size=700|885\" align='left' width='400'>"
   ]
  },
  {
   "cell_type": "markdown",
   "metadata": {},
   "source": [
    "## **_Question_** 다음중 예측 가능한 것은?\n",
    "1. 이건희 사망시기\n",
    "1. 테슬라 주행자동차 사건예측\n",
    "1. 대우조선해양 부정회계\n",
    "1. 내일의 한국/ 미국의 주가지수\n",
    "1. 삼성전자 다음 분기의 영업이익 증가/ 감소분\n",
    "1. 대한민국 내수시장의 다음분기 실적예측\n",
    "\n",
    "본인이 지금당장 할 수 있으면, 기계로도 할 수 있고<br>\n",
    "본인이 지금당장 **필요한 조건들이 떠오른다면** 기계로 보완이 가능 한 정도이지<br>\n",
    "본인이 지금당장 할 수 없으면, **뭐를 사용해도 불가능하다는** 시각으로 접근하자!!\n",
    "\n",
    "<img src=\"http://t1.daumcdn.net/liveboard/ziksir/99a921c2adfc422ea79793ad41144952.jpg\" align='left'>"
   ]
  },
  {
   "cell_type": "markdown",
   "metadata": {},
   "source": [
    "## **머신러닝 딥러닝은,**\n",
    "### 과거의 **통계적 방법 만으로는 규칙을 찾기 어려운** 데이터에 대해서, \n",
    "### **보다** <strike>상대적으로</strike> **정형화된 분석** 을 도와주는 **보조적 도구** 이다\n",
    "#### <strike>그런데 그 정형화가 정형화가 아닌것 또한 함정</strike> "
   ]
  },
  {
   "cell_type": "markdown",
   "metadata": {},
   "source": [
    "<br><br>\n",
    "## **2 Let's Start**\n",
    "### **01 Coding 둘러보기**\n",
    "Coding 이란 : 컴퓨터에게 숫자, 영어, 기호 로 특정명령을 내리는 것 <strike>한글은 불가능</strike>"
   ]
  },
  {
   "cell_type": "markdown",
   "metadata": {},
   "source": [
    "<br><br>\n",
    "## **2 Datum 객체 학습하기**\n",
    "\n",
    "<br>\n",
    "### **01 숫자의 사칙연산**\n",
    "https://soooprmx.com/archives/4886 : 파이썬 내장함수"
   ]
  },
  {
   "cell_type": "code",
   "execution_count": 1,
   "metadata": {},
   "outputs": [
    {
     "name": "stdout",
     "output_type": "stream",
     "text": [
      "3\n",
      "7.5\n",
      "7\n",
      "2\n"
     ]
    }
   ],
   "source": [
    "print(1 +   2)\n",
    "print(30 /  4)   # 나누기 \n",
    "print(30 // 4)   # 몫\n",
    "print(30 %  4)   # 나머지"
   ]
  },
  {
   "cell_type": "markdown",
   "metadata": {},
   "source": [
    "<br>\n",
    "### **02 '문자', \"문자\"의 연산**\n",
    "1. 문자의 연결(사칙연산)\n",
    "1. [indexing]\n",
    "1. [slicing:]"
   ]
  },
  {
   "cell_type": "code",
   "execution_count": 2,
   "metadata": {},
   "outputs": [
    {
     "name": "stdout",
     "output_type": "stream",
     "text": [
      "0\n",
      "102\n",
      "대한민국2018평창올림픽gogo!!\n"
     ]
    }
   ],
   "source": [
    "print('0')\n",
    "print(\"10\" + '2')\n",
    "print('대한민국'+'2018'+'평창올림픽'+'gogo!!')"
   ]
  },
  {
   "cell_type": "code",
   "execution_count": 3,
   "metadata": {},
   "outputs": [
    {
     "name": "stdout",
     "output_type": "stream",
     "text": [
      "2\n",
      "$\n"
     ]
    }
   ],
   "source": [
    "gogl = '20,000,000$'\n",
    "print(gogl[0])\n",
    "print(gogl[-1])"
   ]
  },
  {
   "cell_type": "code",
   "execution_count": 4,
   "metadata": {},
   "outputs": [
    {
     "data": {
      "text/plain": [
       "'20'"
      ]
     },
     "execution_count": 4,
     "metadata": {},
     "output_type": "execute_result"
    }
   ],
   "source": [
    "gogl[:2]     "
   ]
  },
  {
   "cell_type": "markdown",
   "metadata": {},
   "source": [
    "### **03 문자와 숫자의 변환**\n",
    "1. type()\n",
    "1. str()\n",
    "1. int()\n",
    "1. float()"
   ]
  },
  {
   "cell_type": "code",
   "execution_count": 5,
   "metadata": {},
   "outputs": [
    {
     "data": {
      "text/plain": [
       "str"
      ]
     },
     "execution_count": 5,
     "metadata": {},
     "output_type": "execute_result"
    }
   ],
   "source": [
    "code_str = '005390'\n",
    "type(code_str)"
   ]
  },
  {
   "cell_type": "markdown",
   "metadata": {},
   "source": [
    "<br><br>\n",
    "## **3 Data 객체 학습하기**\n",
    "1. 여러객체를 **_순차적으로 담을 수 있는_** [ list ]\n",
    "1. 여러객체를 **_임의의 주소값으로 담을 수 있는_** {dict}\n",
    "1. **_원본 DATABASE에서 추출하여 순차적으로 담긴_** (tuple,)"
   ]
  },
  {
   "cell_type": "markdown",
   "metadata": {},
   "source": [
    "<br>\n",
    "### **01 [ list ]**"
   ]
  },
  {
   "cell_type": "code",
   "execution_count": 6,
   "metadata": {},
   "outputs": [
    {
     "data": {
      "text/plain": [
       "5"
      ]
     },
     "execution_count": 6,
     "metadata": {},
     "output_type": "execute_result"
    }
   ],
   "source": [
    "lists = [1,2,3,'회계','재무']\n",
    "len(lists)  "
   ]
  },
  {
   "cell_type": "code",
   "execution_count": 7,
   "metadata": {},
   "outputs": [
    {
     "data": {
      "text/plain": [
       "[1, 2, 3, '회계', '재무', 2017]"
      ]
     },
     "execution_count": 7,
     "metadata": {},
     "output_type": "execute_result"
    }
   ],
   "source": [
    "lists.append(2017)  \n",
    "lists"
   ]
  },
  {
   "cell_type": "code",
   "execution_count": 8,
   "metadata": {},
   "outputs": [
    {
     "data": {
      "text/plain": [
       "[1, 2, 3, '회계', '재무', 2017, ['08-15', '22:00:30']]"
      ]
     },
     "execution_count": 8,
     "metadata": {},
     "output_type": "execute_result"
    }
   ],
   "source": [
    "lists.append(['08-15','22:00:30'])\n",
    "lists"
   ]
  },
  {
   "cell_type": "code",
   "execution_count": 9,
   "metadata": {},
   "outputs": [
    {
     "data": {
      "text/plain": [
       "[[100, 200, 300], 1, 2, 3, '회계', '재무', 2017, ['08-15', '22:00:30']]"
      ]
     },
     "execution_count": 9,
     "metadata": {},
     "output_type": "execute_result"
    }
   ],
   "source": [
    "lists.insert(0, [100, 200, 300])\n",
    "lists"
   ]
  },
  {
   "cell_type": "code",
   "execution_count": 10,
   "metadata": {},
   "outputs": [
    {
     "name": "stdout",
     "output_type": "stream",
     "text": [
      "[100, 200, 300]\n",
      "['08-15', '22:00:30']\n"
     ]
    }
   ],
   "source": [
    "print(lists[0])   \n",
    "print(lists[-1])"
   ]
  },
  {
   "cell_type": "code",
   "execution_count": 11,
   "metadata": {},
   "outputs": [
    {
     "name": "stdout",
     "output_type": "stream",
     "text": [
      "[3, '회계', '재무']\n",
      "[[100, 200, 300], 1, 2]\n",
      "[[100, 200, 300], 1, 2, 3, '회계', '재무']\n"
     ]
    }
   ],
   "source": [
    "print(lists[3:6])\n",
    "print(lists[:3])\n",
    "print(lists[:-2])"
   ]
  },
  {
   "cell_type": "code",
   "execution_count": 12,
   "metadata": {},
   "outputs": [
    {
     "data": {
      "text/plain": [
       "[1, 31, 51, 23, 19, 14, 4, 2, 5]"
      ]
     },
     "execution_count": 12,
     "metadata": {},
     "output_type": "execute_result"
    }
   ],
   "source": [
    "lists_1 = [1,31,51,23]\n",
    "lists_2 = [19,14,4,2,5]\n",
    "list_num = lists_1 + lists_2\n",
    "list_num"
   ]
  },
  {
   "cell_type": "code",
   "execution_count": 13,
   "metadata": {},
   "outputs": [
    {
     "data": {
      "text/plain": [
       "[1, 2, 4, 5, 14, 19, 23, 31, 51]"
      ]
     },
     "execution_count": 13,
     "metadata": {},
     "output_type": "execute_result"
    }
   ],
   "source": [
    "list_num.sort()\n",
    "list_num"
   ]
  },
  {
   "cell_type": "code",
   "execution_count": 14,
   "metadata": {},
   "outputs": [
    {
     "data": {
      "text/plain": [
       "['ABC', 'Python', 'java', 'oracle', 'python', 'vba']"
      ]
     },
     "execution_count": 14,
     "metadata": {},
     "output_type": "execute_result"
    }
   ],
   "source": [
    "list_string = ['python', 'java', 'Python', 'vba', 'oracle', 'ABC']\n",
    "list_string.sort()\n",
    "list_string"
   ]
  },
  {
   "cell_type": "code",
   "execution_count": 15,
   "metadata": {},
   "outputs": [
    {
     "data": {
      "text/plain": [
       "['라틴어', '미국', '영어', '일본어', '중국어', '한글', '히브리어']"
      ]
     },
     "execution_count": 15,
     "metadata": {},
     "output_type": "execute_result"
    }
   ],
   "source": [
    "list_string = ['한글', '미국', '영어', '일본어', '중국어', '히브리어', '라틴어']\n",
    "list_string.sort() \n",
    "list_string"
   ]
  },
  {
   "cell_type": "code",
   "execution_count": 16,
   "metadata": {},
   "outputs": [
    {
     "name": "stdout",
     "output_type": "stream",
     "text": [
      "라틴어\n",
      "미국\n",
      "영어\n",
      "일본어\n",
      "중국어\n",
      "한글\n",
      "히브리어\n"
     ]
    }
   ],
   "source": [
    "for txt in list_string:\n",
    "    print(txt)"
   ]
  },
  {
   "cell_type": "code",
   "execution_count": 17,
   "metadata": {},
   "outputs": [
    {
     "name": "stdout",
     "output_type": "stream",
     "text": [
      "0  번 index 데이터  라틴어\n",
      "1  번 index 데이터  미국\n",
      "2  번 index 데이터  영어\n",
      "3  번 index 데이터  일본어\n",
      "4  번 index 데이터  중국어\n",
      "5  번 index 데이터  한글\n",
      "6  번 index 데이터  히브리어\n"
     ]
    }
   ],
   "source": [
    "for no, txt in enumerate(list_string):\n",
    "    print(no, ' 번 index 데이터 ', txt)"
   ]
  },
  {
   "cell_type": "code",
   "execution_count": 18,
   "metadata": {},
   "outputs": [],
   "source": [
    "name = ['한국항공우주', '대우조선해양']\n",
    "code = ['047810', '000300']"
   ]
  },
  {
   "cell_type": "code",
   "execution_count": 19,
   "metadata": {},
   "outputs": [
    {
     "data": {
      "text/plain": [
       "['한국항공우주', '047810', ['대우조선해양', '000300']]"
      ]
     },
     "execution_count": 19,
     "metadata": {},
     "output_type": "execute_result"
    }
   ],
   "source": [
    "krx_code = [name[0]] + [code[0]]\n",
    "krx_code.append([name[1],code[1]])\n",
    "krx_code"
   ]
  },
  {
   "cell_type": "markdown",
   "metadata": {},
   "source": [
    "<br><br>\n",
    "### **02  { Dictionary_key :  _value } **"
   ]
  },
  {
   "cell_type": "code",
   "execution_count": 20,
   "metadata": {},
   "outputs": [
    {
     "data": {
      "text/plain": [
       "{'005390': '삼성전자', '035420': ['네이버', 'NAVER', 'Naver', 'naver']}"
      ]
     },
     "execution_count": 20,
     "metadata": {},
     "output_type": "execute_result"
    }
   ],
   "source": [
    "dictionary = {'005390':'삼성전자', \n",
    "              '035420':['네이버','NAVER','Naver','naver']}\n",
    "dictionary"
   ]
  },
  {
   "cell_type": "code",
   "execution_count": 21,
   "metadata": {},
   "outputs": [
    {
     "data": {
      "text/plain": [
       "dict_keys(['005390', '035420'])"
      ]
     },
     "execution_count": 21,
     "metadata": {},
     "output_type": "execute_result"
    }
   ],
   "source": [
    "dictionary.keys()"
   ]
  },
  {
   "cell_type": "code",
   "execution_count": 22,
   "metadata": {},
   "outputs": [
    {
     "data": {
      "text/plain": [
       "dict_values(['삼성전자', ['네이버', 'NAVER', 'Naver', 'naver']])"
      ]
     },
     "execution_count": 22,
     "metadata": {},
     "output_type": "execute_result"
    }
   ],
   "source": [
    "dictionary.values()"
   ]
  },
  {
   "cell_type": "code",
   "execution_count": 23,
   "metadata": {},
   "outputs": [
    {
     "data": {
      "text/plain": [
       "['네이버', 'NAVER', 'Naver', 'naver']"
      ]
     },
     "execution_count": 23,
     "metadata": {},
     "output_type": "execute_result"
    }
   ],
   "source": [
    "dictionary['035420']"
   ]
  },
  {
   "cell_type": "code",
   "execution_count": 24,
   "metadata": {},
   "outputs": [
    {
     "data": {
      "text/plain": [
       "{'005390': '삼성전자',\n",
       " '035420': ['네이버', 'NAVER', 'Naver', 'naver'],\n",
       " '000660': 'SK하이닉스'}"
      ]
     },
     "execution_count": 24,
     "metadata": {},
     "output_type": "execute_result"
    }
   ],
   "source": [
    "dictionary['000660'] = 'SK하이닉스'\n",
    "dictionary"
   ]
  },
  {
   "cell_type": "code",
   "execution_count": 25,
   "metadata": {},
   "outputs": [
    {
     "data": {
      "text/plain": [
       "dict_keys(['Debit', 'Credit'])"
      ]
     },
     "execution_count": 25,
     "metadata": {},
     "output_type": "execute_result"
    }
   ],
   "source": [
    "sheet = {'Debit':\n",
    "             {'Lease': 1_300_000, \n",
    "              'Cash' : 700_000 },\n",
    "         'Credit':\n",
    "             {'Cash' : 2_000_000}}\n",
    "\n",
    "sheet.keys()"
   ]
  },
  {
   "cell_type": "code",
   "execution_count": 26,
   "metadata": {},
   "outputs": [
    {
     "data": {
      "text/plain": [
       "{'Lease': 1300000, 'Cash': 700000}"
      ]
     },
     "execution_count": 26,
     "metadata": {},
     "output_type": "execute_result"
    }
   ],
   "source": [
    "sheet['Debit']"
   ]
  },
  {
   "cell_type": "code",
   "execution_count": 27,
   "metadata": {},
   "outputs": [
    {
     "data": {
      "text/plain": [
       "dict_keys(['Lease', 'Cash'])"
      ]
     },
     "execution_count": 27,
     "metadata": {},
     "output_type": "execute_result"
    }
   ],
   "source": [
    "sheet['Debit'].keys()"
   ]
  },
  {
   "cell_type": "code",
   "execution_count": 28,
   "metadata": {},
   "outputs": [
    {
     "data": {
      "text/plain": [
       "dict_values([1300000, 700000])"
      ]
     },
     "execution_count": 28,
     "metadata": {},
     "output_type": "execute_result"
    }
   ],
   "source": [
    "sheet['Debit'].values()"
   ]
  },
  {
   "cell_type": "code",
   "execution_count": 29,
   "metadata": {},
   "outputs": [
    {
     "name": "stdout",
     "output_type": "stream",
     "text": [
      "Debit {'Lease': 1300000, 'Cash': 700000}\n",
      "Credit {'Cash': 2000000}\n"
     ]
    }
   ],
   "source": [
    "for idx, datum  in  sheet.items():\n",
    "    print(idx, datum)"
   ]
  },
  {
   "cell_type": "code",
   "execution_count": 30,
   "metadata": {},
   "outputs": [
    {
     "data": {
      "text/html": [
       "<div>\n",
       "<style scoped>\n",
       "    .dataframe tbody tr th:only-of-type {\n",
       "        vertical-align: middle;\n",
       "    }\n",
       "\n",
       "    .dataframe tbody tr th {\n",
       "        vertical-align: top;\n",
       "    }\n",
       "\n",
       "    .dataframe thead th {\n",
       "        text-align: right;\n",
       "    }\n",
       "</style>\n",
       "<table border=\"1\" class=\"dataframe\">\n",
       "  <thead>\n",
       "    <tr style=\"text-align: right;\">\n",
       "      <th></th>\n",
       "      <th>Credit</th>\n",
       "      <th>Debit</th>\n",
       "    </tr>\n",
       "  </thead>\n",
       "  <tbody>\n",
       "    <tr>\n",
       "      <th>Cash</th>\n",
       "      <td>2000000.0</td>\n",
       "      <td>700000</td>\n",
       "    </tr>\n",
       "    <tr>\n",
       "      <th>Lease</th>\n",
       "      <td>NaN</td>\n",
       "      <td>1300000</td>\n",
       "    </tr>\n",
       "  </tbody>\n",
       "</table>\n",
       "</div>"
      ],
      "text/plain": [
       "          Credit    Debit\n",
       "Cash   2000000.0   700000\n",
       "Lease        NaN  1300000"
      ]
     },
     "execution_count": 30,
     "metadata": {},
     "output_type": "execute_result"
    }
   ],
   "source": [
    "import pandas as pd\n",
    "pd.DataFrame(sheet)"
   ]
  },
  {
   "cell_type": "code",
   "execution_count": 31,
   "metadata": {},
   "outputs": [],
   "source": [
    "dictionary = {'005390':'삼성전자', '035420':'네이버'}"
   ]
  },
  {
   "cell_type": "markdown",
   "metadata": {},
   "source": [
    "<br><br>\n",
    "### **03  ( tuple)**"
   ]
  },
  {
   "cell_type": "code",
   "execution_count": 32,
   "metadata": {},
   "outputs": [
    {
     "data": {
      "text/plain": [
       "dict_items([('005390', '삼성전자'), ('035420', '네이버')])"
      ]
     },
     "execution_count": 32,
     "metadata": {},
     "output_type": "execute_result"
    }
   ],
   "source": [
    "dictionary = {'005390':'삼성전자', '035420':'네이버'}\n",
    "items      = dictionary.items()\n",
    "items"
   ]
  },
  {
   "cell_type": "code",
   "execution_count": 33,
   "metadata": {},
   "outputs": [
    {
     "data": {
      "text/plain": [
       "2"
      ]
     },
     "execution_count": 33,
     "metadata": {},
     "output_type": "execute_result"
    }
   ],
   "source": [
    "len(items)"
   ]
  },
  {
   "cell_type": "code",
   "execution_count": 34,
   "metadata": {},
   "outputs": [
    {
     "data": {
      "text/plain": [
       "[('005390', '삼성전자'), ('035420', '네이버')]"
      ]
     },
     "execution_count": 34,
     "metadata": {},
     "output_type": "execute_result"
    }
   ],
   "source": [
    "items = list(items)\n",
    "items"
   ]
  },
  {
   "cell_type": "code",
   "execution_count": 35,
   "metadata": {},
   "outputs": [
    {
     "data": {
      "text/plain": [
       "('005390', '삼성전자')"
      ]
     },
     "execution_count": 35,
     "metadata": {},
     "output_type": "execute_result"
    }
   ],
   "source": [
    "samsung = items[0]\n",
    "samsung"
   ]
  },
  {
   "cell_type": "code",
   "execution_count": 36,
   "metadata": {},
   "outputs": [
    {
     "data": {
      "text/plain": [
       "tuple"
      ]
     },
     "execution_count": 36,
     "metadata": {},
     "output_type": "execute_result"
    }
   ],
   "source": [
    "type(samsung)"
   ]
  },
  {
   "cell_type": "code",
   "execution_count": 37,
   "metadata": {},
   "outputs": [
    {
     "name": "stdout",
     "output_type": "stream",
     "text": [
      "005390\n",
      "삼성전자\n"
     ]
    }
   ],
   "source": [
    "print(samsung[0])\n",
    "print(samsung[1]) "
   ]
  },
  {
   "cell_type": "code",
   "execution_count": 38,
   "metadata": {},
   "outputs": [
    {
     "ename": "TypeError",
     "evalue": "'tuple' object does not support item assignment",
     "output_type": "error",
     "traceback": [
      "\u001b[0;31m---------------------------------------------------------------------------\u001b[0m",
      "\u001b[0;31mTypeError\u001b[0m                                 Traceback (most recent call last)",
      "\u001b[0;32m<ipython-input-38-84e70551a7c3>\u001b[0m in \u001b[0;36m<module>\u001b[0;34m()\u001b[0m\n\u001b[0;32m----> 1\u001b[0;31m \u001b[0msamsung\u001b[0m\u001b[0;34m[\u001b[0m\u001b[0;36m0\u001b[0m\u001b[0;34m]\u001b[0m \u001b[0;34m=\u001b[0m \u001b[0;34m'000660'\u001b[0m\u001b[0;34m\u001b[0m\u001b[0m\n\u001b[0m",
      "\u001b[0;31mTypeError\u001b[0m: 'tuple' object does not support item assignment"
     ]
    }
   ],
   "source": [
    "samsung[0] = '000660'"
   ]
  }
 ],
 "metadata": {
  "kernelspec": {
   "display_name": "Python 3",
   "language": "python",
   "name": "python3"
  },
  "language_info": {
   "codemirror_mode": {
    "name": "ipython",
    "version": 3
   },
   "file_extension": ".py",
   "mimetype": "text/x-python",
   "name": "python",
   "nbconvert_exporter": "python",
   "pygments_lexer": "ipython3",
   "version": "3.6.3"
  }
 },
 "nbformat": 4,
 "nbformat_minor": 2
}
